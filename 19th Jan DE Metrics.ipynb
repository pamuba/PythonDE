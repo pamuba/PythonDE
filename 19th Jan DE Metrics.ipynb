{
 "cells": [
  {
   "cell_type": "code",
   "execution_count": 1,
   "id": "df542bf1",
   "metadata": {},
   "outputs": [],
   "source": [
    "import pandas as pd\n",
    "import numpy as np\n",
    "import matplotlib.pyplot as plt\n",
    "import seaborn as sns\n",
    "%matplotlib inline"
   ]
  },
  {
   "cell_type": "code",
   "execution_count": 2,
   "id": "737e1b76",
   "metadata": {},
   "outputs": [],
   "source": [
    "loan_df = pd.read_csv(\"D://Loan_Default.csv\")\n"
   ]
  },
  {
   "cell_type": "code",
   "execution_count": 3,
   "id": "f3412231",
   "metadata": {},
   "outputs": [
    {
     "data": {
      "text/html": [
       "<div>\n",
       "<style scoped>\n",
       "    .dataframe tbody tr th:only-of-type {\n",
       "        vertical-align: middle;\n",
       "    }\n",
       "\n",
       "    .dataframe tbody tr th {\n",
       "        vertical-align: top;\n",
       "    }\n",
       "\n",
       "    .dataframe thead th {\n",
       "        text-align: right;\n",
       "    }\n",
       "</style>\n",
       "<table border=\"1\" class=\"dataframe\">\n",
       "  <thead>\n",
       "    <tr style=\"text-align: right;\">\n",
       "      <th></th>\n",
       "      <th>ID</th>\n",
       "      <th>year</th>\n",
       "      <th>loan_limit</th>\n",
       "      <th>Gender</th>\n",
       "      <th>approv_in_adv</th>\n",
       "      <th>loan_type</th>\n",
       "      <th>loan_purpose</th>\n",
       "      <th>Credit_Worthiness</th>\n",
       "      <th>open_credit</th>\n",
       "      <th>business_or_commercial</th>\n",
       "      <th>...</th>\n",
       "      <th>Credit_Score</th>\n",
       "      <th>co-applicant_credit_type</th>\n",
       "      <th>age</th>\n",
       "      <th>submission_of_application</th>\n",
       "      <th>LTV</th>\n",
       "      <th>Region</th>\n",
       "      <th>Security_Type</th>\n",
       "      <th>Status</th>\n",
       "      <th>dtir1</th>\n",
       "      <th>loan_amt_v_income</th>\n",
       "    </tr>\n",
       "  </thead>\n",
       "  <tbody>\n",
       "    <tr>\n",
       "      <th>0</th>\n",
       "      <td>24890</td>\n",
       "      <td>2019</td>\n",
       "      <td>cf</td>\n",
       "      <td>Sex Not Available</td>\n",
       "      <td>nopre</td>\n",
       "      <td>type1</td>\n",
       "      <td>p1</td>\n",
       "      <td>l1</td>\n",
       "      <td>nopc</td>\n",
       "      <td>nob/c</td>\n",
       "      <td>...</td>\n",
       "      <td>758</td>\n",
       "      <td>CIB</td>\n",
       "      <td>25-34</td>\n",
       "      <td>to_inst</td>\n",
       "      <td>98.728814</td>\n",
       "      <td>south</td>\n",
       "      <td>direct</td>\n",
       "      <td>1</td>\n",
       "      <td>45.0</td>\n",
       "      <td>66.954023</td>\n",
       "    </tr>\n",
       "    <tr>\n",
       "      <th>1</th>\n",
       "      <td>24891</td>\n",
       "      <td>2019</td>\n",
       "      <td>cf</td>\n",
       "      <td>Male</td>\n",
       "      <td>nopre</td>\n",
       "      <td>type2</td>\n",
       "      <td>p1</td>\n",
       "      <td>l1</td>\n",
       "      <td>nopc</td>\n",
       "      <td>b/c</td>\n",
       "      <td>...</td>\n",
       "      <td>552</td>\n",
       "      <td>EXP</td>\n",
       "      <td>55-64</td>\n",
       "      <td>to_inst</td>\n",
       "      <td>NaN</td>\n",
       "      <td>North</td>\n",
       "      <td>direct</td>\n",
       "      <td>1</td>\n",
       "      <td>NaN</td>\n",
       "      <td>41.465863</td>\n",
       "    </tr>\n",
       "    <tr>\n",
       "      <th>2</th>\n",
       "      <td>24892</td>\n",
       "      <td>2019</td>\n",
       "      <td>cf</td>\n",
       "      <td>Male</td>\n",
       "      <td>pre</td>\n",
       "      <td>type1</td>\n",
       "      <td>p1</td>\n",
       "      <td>l1</td>\n",
       "      <td>nopc</td>\n",
       "      <td>nob/c</td>\n",
       "      <td>...</td>\n",
       "      <td>834</td>\n",
       "      <td>CIB</td>\n",
       "      <td>35-44</td>\n",
       "      <td>to_inst</td>\n",
       "      <td>80.019685</td>\n",
       "      <td>south</td>\n",
       "      <td>direct</td>\n",
       "      <td>0</td>\n",
       "      <td>46.0</td>\n",
       "      <td>42.879747</td>\n",
       "    </tr>\n",
       "    <tr>\n",
       "      <th>3</th>\n",
       "      <td>24893</td>\n",
       "      <td>2019</td>\n",
       "      <td>cf</td>\n",
       "      <td>Male</td>\n",
       "      <td>nopre</td>\n",
       "      <td>type1</td>\n",
       "      <td>p4</td>\n",
       "      <td>l1</td>\n",
       "      <td>nopc</td>\n",
       "      <td>nob/c</td>\n",
       "      <td>...</td>\n",
       "      <td>587</td>\n",
       "      <td>CIB</td>\n",
       "      <td>45-54</td>\n",
       "      <td>not_inst</td>\n",
       "      <td>69.376900</td>\n",
       "      <td>North</td>\n",
       "      <td>direct</td>\n",
       "      <td>0</td>\n",
       "      <td>42.0</td>\n",
       "      <td>38.425926</td>\n",
       "    </tr>\n",
       "    <tr>\n",
       "      <th>4</th>\n",
       "      <td>24894</td>\n",
       "      <td>2019</td>\n",
       "      <td>cf</td>\n",
       "      <td>Joint</td>\n",
       "      <td>pre</td>\n",
       "      <td>type1</td>\n",
       "      <td>p1</td>\n",
       "      <td>l1</td>\n",
       "      <td>nopc</td>\n",
       "      <td>nob/c</td>\n",
       "      <td>...</td>\n",
       "      <td>602</td>\n",
       "      <td>EXP</td>\n",
       "      <td>25-34</td>\n",
       "      <td>not_inst</td>\n",
       "      <td>91.886544</td>\n",
       "      <td>North</td>\n",
       "      <td>direct</td>\n",
       "      <td>0</td>\n",
       "      <td>39.0</td>\n",
       "      <td>66.714559</td>\n",
       "    </tr>\n",
       "  </tbody>\n",
       "</table>\n",
       "<p>5 rows × 35 columns</p>\n",
       "</div>"
      ],
      "text/plain": [
       "      ID  year loan_limit             Gender approv_in_adv loan_type  \\\n",
       "0  24890  2019         cf  Sex Not Available         nopre     type1   \n",
       "1  24891  2019         cf               Male         nopre     type2   \n",
       "2  24892  2019         cf               Male           pre     type1   \n",
       "3  24893  2019         cf               Male         nopre     type1   \n",
       "4  24894  2019         cf              Joint           pre     type1   \n",
       "\n",
       "  loan_purpose Credit_Worthiness open_credit business_or_commercial  ...  \\\n",
       "0           p1                l1        nopc                  nob/c  ...   \n",
       "1           p1                l1        nopc                    b/c  ...   \n",
       "2           p1                l1        nopc                  nob/c  ...   \n",
       "3           p4                l1        nopc                  nob/c  ...   \n",
       "4           p1                l1        nopc                  nob/c  ...   \n",
       "\n",
       "   Credit_Score  co-applicant_credit_type    age  submission_of_application  \\\n",
       "0           758                       CIB  25-34                    to_inst   \n",
       "1           552                       EXP  55-64                    to_inst   \n",
       "2           834                       CIB  35-44                    to_inst   \n",
       "3           587                       CIB  45-54                   not_inst   \n",
       "4           602                       EXP  25-34                   not_inst   \n",
       "\n",
       "         LTV Region Security_Type Status  dtir1 loan_amt_v_income  \n",
       "0  98.728814  south        direct      1   45.0         66.954023  \n",
       "1        NaN  North        direct      1    NaN         41.465863  \n",
       "2  80.019685  south        direct      0   46.0         42.879747  \n",
       "3  69.376900  North        direct      0   42.0         38.425926  \n",
       "4  91.886544  North        direct      0   39.0         66.714559  \n",
       "\n",
       "[5 rows x 35 columns]"
      ]
     },
     "execution_count": 3,
     "metadata": {},
     "output_type": "execute_result"
    }
   ],
   "source": [
    "loan_df[\"income\"] = loan_df[\"income\"].fillna(loan_df[\"income\"].mean())\n",
    "loan_df[\"loan_amount\"] = loan_df[\"loan_amount\"].fillna(loan_df[\"loan_amount\"].mean())\n",
    "loan_df[\"rate_of_interest\"] = loan_df[\"rate_of_interest\"].fillna(loan_df[\"rate_of_interest\"].mean())\n",
    "loan_df[\"approv_in_adv\"] = loan_df[\"approv_in_adv\"].fillna(loan_df[\"approv_in_adv\"].mode())\n",
    "\n",
    "\n",
    "\n",
    "loan_df = loan_df.assign(\n",
    "    total_units = loan_df[\"total_units\"].map({\n",
    "        \"1U\": \"1U\",\n",
    "        \"2U\": \"2U+\",\n",
    "        \"3U\": \"2U+\",\n",
    "        \"4U\": \"2U+\"}),\n",
    "    loan_amt_v_income = loan_df[\"loan_amount\"]/loan_df[\"income\"]\n",
    ")\n",
    "\n",
    "loan_df.head()"
   ]
  },
  {
   "cell_type": "code",
   "execution_count": 4,
   "id": "b996568e",
   "metadata": {},
   "outputs": [
    {
     "name": "stdout",
     "output_type": "stream",
     "text": [
      "<class 'pandas.core.frame.DataFrame'>\n",
      "RangeIndex: 148670 entries, 0 to 148669\n",
      "Data columns (total 29 columns):\n",
      " #   Column                     Non-Null Count   Dtype  \n",
      "---  ------                     --------------   -----  \n",
      " 0   loan_limit                 145326 non-null  object \n",
      " 1   Gender                     148670 non-null  object \n",
      " 2   approv_in_adv              147762 non-null  object \n",
      " 3   loan_type                  148670 non-null  object \n",
      " 4   loan_purpose               148536 non-null  object \n",
      " 5   Credit_Worthiness          148670 non-null  object \n",
      " 6   business_or_commercial     148670 non-null  object \n",
      " 7   loan_amount                148670 non-null  int64  \n",
      " 8   rate_of_interest           148670 non-null  float64\n",
      " 9   Interest_rate_spread       112031 non-null  float64\n",
      " 10  Upfront_charges            109028 non-null  float64\n",
      " 11  term                       148629 non-null  float64\n",
      " 12  Neg_ammortization          148549 non-null  object \n",
      " 13  interest_only              148670 non-null  object \n",
      " 14  lump_sum_payment           148670 non-null  object \n",
      " 15  property_value             133572 non-null  float64\n",
      " 16  occupancy_type             148670 non-null  object \n",
      " 17  total_units                148670 non-null  object \n",
      " 18  income                     148670 non-null  float64\n",
      " 19  credit_type                148670 non-null  object \n",
      " 20  Credit_Score               148670 non-null  int64  \n",
      " 21  co-applicant_credit_type   148670 non-null  object \n",
      " 22  age                        148470 non-null  object \n",
      " 23  submission_of_application  148470 non-null  object \n",
      " 24  LTV                        133572 non-null  float64\n",
      " 25  Region                     148670 non-null  object \n",
      " 26  Status                     148670 non-null  int64  \n",
      " 27  dtir1                      124549 non-null  float64\n",
      " 28  loan_amt_v_income          148670 non-null  float64\n",
      "dtypes: float64(9), int64(3), object(17)\n",
      "memory usage: 32.9+ MB\n"
     ]
    }
   ],
   "source": [
    "prep_loan_df = loan_df.drop([\n",
    "    \"year\", \n",
    "     \"ID\", \n",
    "     \"open_credit\", \n",
    "    \"construction_type\", \n",
    "    \"Security_Type\", \n",
    "    \"Secured_by\"], \n",
    "    axis=1\n",
    ")\n",
    "\n",
    "prep_loan_df.info()"
   ]
  },
  {
   "cell_type": "code",
   "execution_count": 6,
   "id": "2c75abad",
   "metadata": {},
   "outputs": [],
   "source": [
    "from sklearn.model_selection import train_test_split\n",
    "\n",
    "features = [\n",
    "    \"loan_amount\", \n",
    "    \"income\", \n",
    "    \"Gender\",\n",
    "    \"rate_of_interest\",\n",
    "    \"age\",\n",
    "    \"lump_sum_payment\",\n",
    "    \"credit_type\",\n",
    "    \"total_units\",\n",
    "    \"Credit_Worthiness\",\n",
    "    \"Credit_Score\",\n",
    "    \"approv_in_adv\", \n",
    "\n",
    "]\n",
    "\n",
    "X = pd.get_dummies(prep_loan_df[features], drop_first=True)\n",
    "y = prep_loan_df[\"Status\"]\n",
    "\n",
    "X_train, X_test, y_train, y_test = train_test_split(X, y, test_size=.2, random_state=12345)\n"
   ]
  },
  {
   "cell_type": "code",
   "execution_count": 7,
   "id": "e5dbce84",
   "metadata": {},
   "outputs": [],
   "source": [
    "from sklearn.linear_model import LogisticRegression"
   ]
  },
  {
   "cell_type": "code",
   "execution_count": 11,
   "id": "4a0d3a89",
   "metadata": {},
   "outputs": [
    {
     "data": {
      "text/plain": [
       "0.8525929911885384"
      ]
     },
     "execution_count": 11,
     "metadata": {},
     "output_type": "execute_result"
    }
   ],
   "source": [
    "lr = LogisticRegression()\n",
    "lr = lr.fit(X_train, y_train)\n",
    "lr.score(X_test, y_test)"
   ]
  },
  {
   "cell_type": "code",
   "execution_count": 27,
   "id": "0ba6e165",
   "metadata": {},
   "outputs": [
    {
     "data": {
      "text/plain": [
       "0.8525929911885384"
      ]
     },
     "execution_count": 27,
     "metadata": {},
     "output_type": "execute_result"
    }
   ],
   "source": [
    "from sklearn.metrics import accuracy_score, precision_score, confusion_matrix, recall_score, f1_score\n",
    "accuracy_score(y_test, lr.predict(X_test))"
   ]
  },
  {
   "cell_type": "code",
   "execution_count": 13,
   "id": "c97c3105",
   "metadata": {},
   "outputs": [
    {
     "data": {
      "text/plain": [
       "array([[22214,   131],\n",
       "       [ 4252,  3137]], dtype=int64)"
      ]
     },
     "execution_count": 13,
     "metadata": {},
     "output_type": "execute_result"
    }
   ],
   "source": [
    "confusion_matrix(y_test, lr.predict(X_test))"
   ]
  },
  {
   "cell_type": "code",
   "execution_count": 14,
   "id": "7db1b794",
   "metadata": {},
   "outputs": [
    {
     "data": {
      "text/plain": [
       "0.9599143206854345"
      ]
     },
     "execution_count": 14,
     "metadata": {},
     "output_type": "execute_result"
    }
   ],
   "source": [
    "precision_score(y_test, lr.predict(X_test))"
   ]
  },
  {
   "cell_type": "code",
   "execution_count": 15,
   "id": "b56b1016",
   "metadata": {},
   "outputs": [
    {
     "data": {
      "text/plain": [
       "0.42455000676681554"
      ]
     },
     "execution_count": 15,
     "metadata": {},
     "output_type": "execute_result"
    }
   ],
   "source": [
    "recall_score(y_test, lr.predict(X_test))\n",
    "# we are missing on a lot of defauted loans"
   ]
  },
  {
   "cell_type": "code",
   "execution_count": 29,
   "id": "bc6ce48b",
   "metadata": {},
   "outputs": [
    {
     "data": {
      "text/plain": [
       "0.5887210284320165"
      ]
     },
     "execution_count": 29,
     "metadata": {},
     "output_type": "execute_result"
    }
   ],
   "source": [
    "f1_score(y_test, lr.predict(X_test))"
   ]
  },
  {
   "cell_type": "code",
   "execution_count": 16,
   "id": "e6801ac8",
   "metadata": {},
   "outputs": [],
   "source": [
    "from sklearn.preprocessing import StandardScaler"
   ]
  },
  {
   "cell_type": "code",
   "execution_count": 18,
   "id": "e9c433c1",
   "metadata": {},
   "outputs": [],
   "source": [
    "std = StandardScaler()\n",
    "\n",
    "X_train_std = std.fit_transform(X_train)\n",
    "X_test_std = std.transform(X_test)"
   ]
  },
  {
   "cell_type": "code",
   "execution_count": 23,
   "id": "74390b37",
   "metadata": {},
   "outputs": [
    {
     "name": "stdout",
     "output_type": "stream",
     "text": [
      "Train Accuracy:0.8607654536893792\n",
      "Test Accuracy:0.8621443465393153\n"
     ]
    }
   ],
   "source": [
    "logreg = LogisticRegression(C=.6, penalty=\"l1\", solver=\"saga\", max_iter=1000)\n",
    "lr_reg = logreg.fit(X_train_std, y_train) \n",
    "\n",
    "print(f\"Train Accuracy:{lr_reg.score(X_train_std, y_train)}\")\n",
    "print(f\"Test Accuracy:{lr_reg.score(X_test_std, y_test)}\")"
   ]
  },
  {
   "cell_type": "code",
   "execution_count": 24,
   "id": "b36394fd",
   "metadata": {},
   "outputs": [
    {
     "data": {
      "text/plain": [
       "array([[22207,   138],\n",
       "       [ 3961,  3428]], dtype=int64)"
      ]
     },
     "execution_count": 24,
     "metadata": {},
     "output_type": "execute_result"
    }
   ],
   "source": [
    "confusion_matrix(y_test, lr_reg.predict(X_test_std))"
   ]
  },
  {
   "cell_type": "code",
   "execution_count": 25,
   "id": "8a062a2b",
   "metadata": {},
   "outputs": [
    {
     "data": {
      "text/plain": [
       "0.9613011777902412"
      ]
     },
     "execution_count": 25,
     "metadata": {},
     "output_type": "execute_result"
    }
   ],
   "source": [
    "precision_score(y_test, lr_reg.predict(X_test_std))"
   ]
  },
  {
   "cell_type": "code",
   "execution_count": 26,
   "id": "c064a92f",
   "metadata": {},
   "outputs": [
    {
     "data": {
      "text/plain": [
       "0.46393287318987686"
      ]
     },
     "execution_count": 26,
     "metadata": {},
     "output_type": "execute_result"
    }
   ],
   "source": [
    "recall_score(y_test, lr_reg.predict(X_test_std))"
   ]
  },
  {
   "cell_type": "code",
   "execution_count": 30,
   "id": "fbf6105b",
   "metadata": {},
   "outputs": [
    {
     "data": {
      "text/plain": [
       "0.6258329529895025"
      ]
     },
     "execution_count": 30,
     "metadata": {},
     "output_type": "execute_result"
    }
   ],
   "source": [
    "f1_score(y_test, lr_reg.predict(X_test_std))"
   ]
  },
  {
   "cell_type": "code",
   "execution_count": 41,
   "id": "2508fa14",
   "metadata": {},
   "outputs": [
    {
     "data": {
      "text/plain": [
       "array([[ 3275, 19070],\n",
       "       [  311,  7078]], dtype=int64)"
      ]
     },
     "execution_count": 41,
     "metadata": {},
     "output_type": "execute_result"
    }
   ],
   "source": [
    "confusion_matrix(y_test,lr_reg.predict_proba(X_test_std)[:,1] > .1)"
   ]
  },
  {
   "cell_type": "code",
   "execution_count": 43,
   "id": "ffcbd38c",
   "metadata": {
    "scrolled": true
   },
   "outputs": [
    {
     "data": {
      "image/png": "[encoded data removed]",
      "text/plain": [
       "<Figure size 640x480 with 1 Axes>"
      ]
     },
     "metadata": {},
     "output_type": "display_data"
    }
   ],
   "source": [
    "from sklearn.metrics import precision_recall_curve \n",
    "import matplotlib.pyplot as plt\n",
    "\n",
    "p_curve, r_curve, t_curve = precision_recall_curve(y_train, lr_reg.predict_proba(X_train_std) [:,1])\n",
    "\n",
    "plt.plot(t_curve, p_curve[:-1], label='Precision')\n",
    "plt.plot(t_curve, r_curve[:-1], label='Recall')\n",
    "plt.xlabel('Prediction Threshold')\n",
    "plt.ylabel('Scores')\n",
    "plt.legend( )\n",
    "plt.title('Precision-Recall Curve')\n",
    "plt.show()"
   ]
  },
  {
   "cell_type": "code",
   "execution_count": 44,
   "id": "dc598b02",
   "metadata": {},
   "outputs": [
    {
     "data": {
      "image/png": "[encoded data removed]",
      "text/plain": [
       "<Figure size 800x600 with 1 Axes>"
      ]
     },
     "metadata": {},
     "output_type": "display_data"
    }
   ],
   "source": [
    "y_probs = lr.predict_proba(X_test)[:,1]\n",
    "thresholds = np. linspace(0, 1, 100)\n",
    "f1_scores = [f1_score(y_test, (y_probs >= threshold)) for threshold in thresholds]\n",
    "plt.figure(figsize=(8, 6))\n",
    "plt.plot(thresholds, f1_scores)\n",
    "plt.xlabel( 'Threshold')\n",
    "plt.ylabel('F1 Score')\n",
    "plt.title('F1 Score vs. Threshold') \n",
    "plt.show()"
   ]
  },
  {
   "cell_type": "code",
   "execution_count": null,
   "id": "cbcdb18b",
   "metadata": {},
   "outputs": [],
   "source": [
    "# Precision vs Recall (.7)"
   ]
  },
  {
   "cell_type": "code",
   "execution_count": 48,
   "id": "8b425bf4",
   "metadata": {},
   "outputs": [
    {
     "data": {
      "text/plain": [
       "<matplotlib.legend.Legend at 0x195c5bd2700>"
      ]
     },
     "execution_count": 48,
     "metadata": {},
     "output_type": "execute_result"
    },
    {
     "data": {
      "image/png": "[encoded data removed]",
      "text/plain": [
       "<Figure size 600x600 with 1 Axes>"
      ]
     },
     "metadata": {},
     "output_type": "display_data"
    }
   ],
   "source": [
    "fig, ax = plt.subplots(figsize=(6,6))\n",
    "ax.plot(r_curve, p_curve, label=\"Logistic Regression\")\n",
    "baseline = len(y_test[y_test==1])/ len(y_test)\n",
    "ax.plot([0,1],[baseline,baseline], linestyle=\"--\", label=\"Baseline\")\n",
    "ax.set_xlabel('Recall')\n",
    "ax.set_ylabel('Precision')\n",
    "ax.legend(loc='center left')"
   ]
  },
  {
   "cell_type": "code",
   "execution_count": 49,
   "id": "5fc896d4",
   "metadata": {},
   "outputs": [
    {
     "data": {
      "text/plain": [
       "<AxesSubplot:>"
      ]
     },
     "execution_count": 49,
     "metadata": {},
     "output_type": "execute_result"
    },
    {
     "data": {
      "image/png": "[encoded data removed]",
      "text/plain": [
       "<Figure size 640x480 with 1 Axes>"
      ]
     },
     "metadata": {},
     "output_type": "display_data"
    }
   ],
   "source": [
    "#F1 Curve\n",
    "#using the default threshold of .5\n",
    "\n",
    "\n",
    "f1 = []\n",
    "\n",
    "thresholds = np.linspace(0,1,100)\n",
    "\n",
    "for thresh in thresholds:\n",
    "    y_pred = (lr_reg.predict_proba(X_test_std)[:,1]>thresh)\n",
    "    f1.append(f1_score(y_test, y_pred))\n",
    "    \n",
    "sns.lineplot(x=thresholds, y=f1)\n"
   ]
  },
  {
   "cell_type": "code",
   "execution_count": 50,
   "id": "9b97ea94",
   "metadata": {},
   "outputs": [
    {
     "data": {
      "text/plain": [
       "[0.39808205155833315,\n",
       " 0.3980163863734368,\n",
       " 0.3980367833450192,\n",
       " 0.3980456729471468,\n",
       " 0.39833464002811647,\n",
       " 0.3988506681846521,\n",
       " 0.399662226580589,\n",
       " 0.4022672243011226,\n",
       " 0.4061948637522054,\n",
       " 0.41329263376144676,\n",
       " 0.4234941564279292,\n",
       " 0.4333437793795048,\n",
       " 0.44382893131532963,\n",
       " 0.45720324057766826,\n",
       " 0.47517486526774455,\n",
       " 0.4935942911989316,\n",
       " 0.5096290848922185,\n",
       " 0.5301192590713016,\n",
       " 0.5559854346836596,\n",
       " 0.5782887632598616,\n",
       " 0.5981635943085442,\n",
       " 0.6113997555012224,\n",
       " 0.6231434633589032,\n",
       " 0.6262078318359044,\n",
       " 0.6239264335907001,\n",
       " 0.623784068004557,\n",
       " 0.6246580178271998,\n",
       " 0.624988899742474,\n",
       " 0.6256364448414471,\n",
       " 0.626200951782347,\n",
       " 0.6271783295711061,\n",
       " 0.6267548229327053,\n",
       " 0.6266436927541489,\n",
       " 0.6266460811915358,\n",
       " 0.62671637719378,\n",
       " 0.6266047527997816,\n",
       " 0.626525778830388,\n",
       " 0.626811264011665,\n",
       " 0.626811264011665,\n",
       " 0.6269255309452193,\n",
       " 0.6269255309452193,\n",
       " 0.6269255309452193,\n",
       " 0.6269255309452193,\n",
       " 0.6266751754945756,\n",
       " 0.6266070940093006,\n",
       " 0.6264818530001824,\n",
       " 0.6262884247012679,\n",
       " 0.6261631089217297,\n",
       " 0.6259695227666758,\n",
       " 0.6257187186273615,\n",
       " 0.6257075041080884,\n",
       " 0.6258789151675646,\n",
       " 0.6254226446129947,\n",
       " 0.6251599926860487,\n",
       " 0.62482846949044,\n",
       " 0.6245536940400989,\n",
       " 0.6240146654445464,\n",
       " 0.6236125126135218,\n",
       " 0.623405231757687,\n",
       " 0.6228062115225581,\n",
       " 0.6226432447346638,\n",
       " 0.6220871327254306,\n",
       " 0.6203524310360735,\n",
       " 0.619549150036955,\n",
       " 0.6178349847208074,\n",
       " 0.6157987561496333,\n",
       " 0.6145833333333333,\n",
       " 0.6139075316927666,\n",
       " 0.6123516770998786,\n",
       " 0.6108770944491247,\n",
       " 0.6085242208036049,\n",
       " 0.6052557219553546,\n",
       " 0.6035100962445744,\n",
       " 0.6012293144208037,\n",
       " 0.5994318181818181,\n",
       " 0.5977992790741794,\n",
       " 0.5959912605680631,\n",
       " 0.595647629003136,\n",
       " 0.5953806672369547,\n",
       " 0.5951136039547485,\n",
       " 0.5951136039547485,\n",
       " 0.5951136039547485,\n",
       " 0.5951136039547485,\n",
       " 0.5951136039547485,\n",
       " 0.5951136039547485,\n",
       " 0.5951136039547485,\n",
       " 0.5949800342270394,\n",
       " 0.5949800342270394,\n",
       " 0.5949800342270394,\n",
       " 0.5949800342270394,\n",
       " 0.5949800342270394,\n",
       " 0.5949800342270394,\n",
       " 0.5949800342270394,\n",
       " 0.5949800342270394,\n",
       " 0.5949800342270394,\n",
       " 0.5949800342270394,\n",
       " 0.5949800342270394,\n",
       " 0.5949800342270394,\n",
       " 0.5948464390986024,\n",
       " 0.0]"
      ]
     },
     "execution_count": 50,
     "metadata": {},
     "output_type": "execute_result"
    }
   ],
   "source": [
    "f1\n"
   ]
  },
  {
   "cell_type": "code",
   "execution_count": 51,
   "id": "ca19428c",
   "metadata": {},
   "outputs": [],
   "source": [
    "#ROC  = Visualizes model performance for all thresholds\n",
    "# Summarize ROC using AUC, measures the probability that a randomly selected positive class has a higher predicted probability \n",
    "#then a negative class \n",
    "\n",
    "#1 perfect classifier\n",
    "#0 perfect incorrect classifier\n",
    "#.5 our model is no better than a random guess\n"
   ]
  },
  {
   "cell_type": "code",
   "execution_count": 54,
   "id": "d18df2ab",
   "metadata": {},
   "outputs": [
    {
     "data": {
      "image/png": "[encoded data removed]",
      "text/plain": [
       "<Figure size 640x480 with 1 Axes>"
      ]
     },
     "metadata": {},
     "output_type": "display_data"
    }
   ],
   "source": [
    "from sklearn.metrics import auc, roc_curve\n",
    "\n",
    "#claculate the tpr and fpr for all thresholds of the classification\n",
    "probs = lr.predict_proba(X_test)[:,1]\n",
    "\n",
    "fpr, tpr, threshold = roc_curve(y_test, probs)\n",
    "roc_auc = auc(fpr, tpr)\n",
    "\n",
    "plt.title(\"R O C\")\n",
    "plt.plot(fpr, tpr, label=\"AUC = %0.2f\" % roc_auc)\n",
    "plt.legend(loc = 'lower right')\n",
    "plt.plot([0,1], [0,1], '--', label=\"Random Guess\")\n",
    "plt.xlim([0,1])\n",
    "plt.ylim([0,1])\n",
    "plt.ylabel('True Positive Rate')\n",
    "plt.xlabel('False Positive Rate')\n",
    "plt.show()"
   ]
  },
  {
   "cell_type": "code",
   "execution_count": 58,
   "id": "17234b94",
   "metadata": {},
   "outputs": [
    {
     "data": {
      "text/html": [
       "<div>\n",
       "<style scoped>\n",
       "    .dataframe tbody tr th:only-of-type {\n",
       "        vertical-align: middle;\n",
       "    }\n",
       "\n",
       "    .dataframe tbody tr th {\n",
       "        vertical-align: top;\n",
       "    }\n",
       "\n",
       "    .dataframe thead th {\n",
       "        text-align: right;\n",
       "    }\n",
       "</style>\n",
       "<table border=\"1\" class=\"dataframe\">\n",
       "  <thead>\n",
       "    <tr style=\"text-align: right;\">\n",
       "      <th></th>\n",
       "      <th>TPR</th>\n",
       "      <th>FPR</th>\n",
       "      <th>Threshold</th>\n",
       "    </tr>\n",
       "  </thead>\n",
       "  <tbody>\n",
       "    <tr>\n",
       "      <th>0</th>\n",
       "      <td>0.00000</td>\n",
       "      <td>0.00000</td>\n",
       "      <td>1.95664</td>\n",
       "    </tr>\n",
       "    <tr>\n",
       "      <th>1</th>\n",
       "      <td>0.00014</td>\n",
       "      <td>0.00000</td>\n",
       "      <td>0.95664</td>\n",
       "    </tr>\n",
       "    <tr>\n",
       "      <th>2</th>\n",
       "      <td>0.40060</td>\n",
       "      <td>0.00000</td>\n",
       "      <td>0.68144</td>\n",
       "    </tr>\n",
       "    <tr>\n",
       "      <th>3</th>\n",
       "      <td>0.40060</td>\n",
       "      <td>0.00004</td>\n",
       "      <td>0.68134</td>\n",
       "    </tr>\n",
       "    <tr>\n",
       "      <th>4</th>\n",
       "      <td>0.41115</td>\n",
       "      <td>0.00004</td>\n",
       "      <td>0.65190</td>\n",
       "    </tr>\n",
       "    <tr>\n",
       "      <th>...</th>\n",
       "      <td>...</td>\n",
       "      <td>...</td>\n",
       "      <td>...</td>\n",
       "    </tr>\n",
       "    <tr>\n",
       "      <th>7064</th>\n",
       "      <td>0.99973</td>\n",
       "      <td>0.99973</td>\n",
       "      <td>0.01017</td>\n",
       "    </tr>\n",
       "    <tr>\n",
       "      <th>7065</th>\n",
       "      <td>0.99973</td>\n",
       "      <td>0.99991</td>\n",
       "      <td>0.00520</td>\n",
       "    </tr>\n",
       "    <tr>\n",
       "      <th>7066</th>\n",
       "      <td>0.99986</td>\n",
       "      <td>0.99991</td>\n",
       "      <td>0.00306</td>\n",
       "    </tr>\n",
       "    <tr>\n",
       "      <th>7067</th>\n",
       "      <td>0.99986</td>\n",
       "      <td>1.00000</td>\n",
       "      <td>0.00003</td>\n",
       "    </tr>\n",
       "    <tr>\n",
       "      <th>7068</th>\n",
       "      <td>1.00000</td>\n",
       "      <td>1.00000</td>\n",
       "      <td>0.00000</td>\n",
       "    </tr>\n",
       "  </tbody>\n",
       "</table>\n",
       "<p>7069 rows × 3 columns</p>\n",
       "</div>"
      ],
      "text/plain": [
       "          TPR      FPR  Threshold\n",
       "0     0.00000  0.00000    1.95664\n",
       "1     0.00014  0.00000    0.95664\n",
       "2     0.40060  0.00000    0.68144\n",
       "3     0.40060  0.00004    0.68134\n",
       "4     0.41115  0.00004    0.65190\n",
       "...       ...      ...        ...\n",
       "7064  0.99973  0.99973    0.01017\n",
       "7065  0.99973  0.99991    0.00520\n",
       "7066  0.99986  0.99991    0.00306\n",
       "7067  0.99986  1.00000    0.00003\n",
       "7068  1.00000  1.00000    0.00000\n",
       "\n",
       "[7069 rows x 3 columns]"
      ]
     },
     "execution_count": 58,
     "metadata": {},
     "output_type": "execute_result"
    }
   ],
   "source": [
    "pd.DataFrame({\"TPR\":tpr, \"FPR\":fpr, \"Threshold\":threshold}).round(5)"
   ]
  },
  {
   "cell_type": "code",
   "execution_count": null,
   "id": "cb9aba52",
   "metadata": {},
   "outputs": [],
   "source": []
  }
 ],
 "metadata": {
  "kernelspec": {
   "display_name": "Python 3 (ipykernel)",
   "language": "python",
   "name": "python3"
  },
  "language_info": {
   "codemirror_mode": {
    "name": "ipython",
    "version": 3
   },
   "file_extension": ".py",
   "mimetype": "text/x-python",
   "name": "python",
   "nbconvert_exporter": "python",
   "pygments_lexer": "ipython3",
   "version": "3.9.13"
  }
 },
 "nbformat": 4,
 "nbformat_minor": 5
}
