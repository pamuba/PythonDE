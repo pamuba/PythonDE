{
 "cells": [
  {
   "cell_type": "code",
   "execution_count": 48,
   "id": "41ae1fc3",
   "metadata": {},
   "outputs": [],
   "source": [
    "import numpy as np\n",
    "import pandas as pd\n",
    "\n",
    "import matplotlib.pyplot as plt\n",
    "import seaborn as sns"
   ]
  },
  {
   "cell_type": "code",
   "execution_count": 49,
   "id": "fa92beae",
   "metadata": {},
   "outputs": [],
   "source": [
    "def create_ages(mu=50, sigma=12, num_samples=100, seed=42):\n",
    "    np.random.seed(seed)\n",
    "    sample_ages = np.random.normal(loc=mu, scale=sigma, size=num_samples)\n",
    "    sample_ages = np.round(sample_ages, decimals=0)\n",
    "    return sample_ages"
   ]
  },
  {
   "cell_type": "code",
   "execution_count": 50,
   "id": "2de0f855",
   "metadata": {},
   "outputs": [],
   "source": [
    "sample = create_ages()"
   ]
  },
  {
   "cell_type": "code",
   "execution_count": 51,
   "id": "e0956416",
   "metadata": {},
   "outputs": [
    {
     "data": {
      "text/plain": [
       "array([56., 48., 58., 68., 47., 47., 69., 59., 44., 57., 44., 44., 53.,\n",
       "       27., 29., 43., 38., 54., 39., 33., 68., 47., 51., 33., 43., 51.,\n",
       "       36., 55., 43., 46., 43., 72., 50., 37., 60., 35., 53., 26., 34.,\n",
       "       52., 59., 52., 49., 46., 32., 41., 44., 63., 54., 29., 54., 45.,\n",
       "       42., 57., 62., 61., 40., 46., 54., 62., 44., 48., 37., 36., 60.,\n",
       "       66., 49., 62., 54., 42., 54., 68., 50., 69., 19., 60., 51., 46.,\n",
       "       51., 26., 47., 54., 68., 44., 40., 44., 61., 54., 44., 56., 51.,\n",
       "       62., 42., 46., 45., 32., 54., 53., 50., 47.])"
      ]
     },
     "execution_count": 51,
     "metadata": {},
     "output_type": "execute_result"
    }
   ],
   "source": [
    "sample"
   ]
  },
  {
   "cell_type": "code",
   "execution_count": 52,
   "id": "3ef0f424",
   "metadata": {},
   "outputs": [
    {
     "data": {
      "text/plain": [
       "<AxesSubplot:ylabel='Count'>"
      ]
     },
     "execution_count": 52,
     "metadata": {},
     "output_type": "execute_result"
    },
    {
     "data": {
      "image/png": "[encoded data removed]",
      "text/plain": [
       "<Figure size 640x480 with 1 Axes>"
      ]
     },
     "metadata": {},
     "output_type": "display_data"
    }
   ],
   "source": [
    "sns.histplot(sample, bins=10, kde=False)"
   ]
  },
  {
   "cell_type": "code",
   "execution_count": 53,
   "id": "18d625fd",
   "metadata": {},
   "outputs": [
    {
     "name": "stderr",
     "output_type": "stream",
     "text": [
      "D:\\Users\\Partha.bora\\Anaconda3\\lib\\site-packages\\seaborn\\_decorators.py:36: FutureWarning: Pass the following variable as a keyword arg: x. From version 0.12, the only valid positional argument will be `data`, and passing other arguments without an explicit keyword will result in an error or misinterpretation.\n",
      "  warnings.warn(\n"
     ]
    },
    {
     "data": {
      "text/plain": [
       "<AxesSubplot:>"
      ]
     },
     "execution_count": 53,
     "metadata": {},
     "output_type": "execute_result"
    },
    {
     "data": {
      "image/png": "[encoded data removed]",
      "text/plain": [
       "<Figure size 640x480 with 1 Axes>"
      ]
     },
     "metadata": {},
     "output_type": "display_data"
    }
   ],
   "source": [
    "sns.boxplot(sample)"
   ]
  },
  {
   "cell_type": "code",
   "execution_count": 56,
   "id": "4ef9f66e",
   "metadata": {},
   "outputs": [],
   "source": [
    "ser = pd.Series(sample)"
   ]
  },
  {
   "cell_type": "code",
   "execution_count": 57,
   "id": "6a44cc7a",
   "metadata": {},
   "outputs": [
    {
     "data": {
      "text/plain": [
       "0     56.0\n",
       "1     48.0\n",
       "2     58.0\n",
       "3     68.0\n",
       "4     47.0\n",
       "      ... \n",
       "95    32.0\n",
       "96    54.0\n",
       "97    53.0\n",
       "98    50.0\n",
       "99    47.0\n",
       "Length: 100, dtype: float64"
      ]
     },
     "execution_count": 57,
     "metadata": {},
     "output_type": "execute_result"
    }
   ],
   "source": [
    "ser"
   ]
  },
  {
   "cell_type": "code",
   "execution_count": 58,
   "id": "60194faa",
   "metadata": {},
   "outputs": [
    {
     "data": {
      "text/plain": [
       "count    100.000000\n",
       "mean      48.700000\n",
       "std       10.940149\n",
       "min       19.000000\n",
       "25%       43.000000\n",
       "50%       48.500000\n",
       "75%       55.250000\n",
       "max       72.000000\n",
       "dtype: float64"
      ]
     },
     "execution_count": 58,
     "metadata": {},
     "output_type": "execute_result"
    }
   ],
   "source": [
    "ser.describe()"
   ]
  },
  {
   "cell_type": "code",
   "execution_count": 59,
   "id": "74caa60c",
   "metadata": {},
   "outputs": [],
   "source": [
    "IQR = 55.25 - 43.0\n",
    "lower_limit = 43.0 - 1.5*IQR"
   ]
  },
  {
   "cell_type": "code",
   "execution_count": 60,
   "id": "54be9bdf",
   "metadata": {},
   "outputs": [
    {
     "data": {
      "text/plain": [
       "24.625"
      ]
     },
     "execution_count": 60,
     "metadata": {},
     "output_type": "execute_result"
    }
   ],
   "source": [
    "lower_limit"
   ]
  },
  {
   "cell_type": "code",
   "execution_count": 61,
   "id": "dd394d38",
   "metadata": {},
   "outputs": [],
   "source": [
    "new_ser = ser[ser > lower_limit]"
   ]
  },
  {
   "cell_type": "code",
   "execution_count": 63,
   "id": "fcdfe1da",
   "metadata": {},
   "outputs": [
    {
     "data": {
      "text/plain": [
       "99"
      ]
     },
     "execution_count": 63,
     "metadata": {},
     "output_type": "execute_result"
    }
   ],
   "source": [
    "len(new_ser)"
   ]
  },
  {
   "cell_type": "code",
   "execution_count": 65,
   "id": "07067136",
   "metadata": {},
   "outputs": [],
   "source": [
    "q75, q25 = np.percentile(sample,[75,25])"
   ]
  },
  {
   "cell_type": "code",
   "execution_count": 66,
   "id": "27d882f1",
   "metadata": {},
   "outputs": [
    {
     "data": {
      "text/plain": [
       "(55.25, 43.0)"
      ]
     },
     "execution_count": 66,
     "metadata": {},
     "output_type": "execute_result"
    }
   ],
   "source": [
    "q75, q25"
   ]
  },
  {
   "cell_type": "code",
   "execution_count": 67,
   "id": "16b3a930",
   "metadata": {},
   "outputs": [],
   "source": [
    "def fix_values(age):\n",
    "    if age<20:\n",
    "        return 20\n",
    "    else:\n",
    "        return age"
   ]
  },
  {
   "cell_type": "code",
   "execution_count": 68,
   "id": "18ef9546",
   "metadata": {},
   "outputs": [],
   "source": [
    "ser_new = ser.apply(fix_values)"
   ]
  },
  {
   "cell_type": "code",
   "execution_count": 69,
   "id": "5702d50e",
   "metadata": {},
   "outputs": [
    {
     "data": {
      "text/plain": [
       "100"
      ]
     },
     "execution_count": 69,
     "metadata": {},
     "output_type": "execute_result"
    }
   ],
   "source": [
    "len(ser_new)"
   ]
  },
  {
   "cell_type": "code",
   "execution_count": 70,
   "id": "c35bf62a",
   "metadata": {},
   "outputs": [
    {
     "data": {
      "text/plain": [
       "count    100.000000\n",
       "mean      48.710000\n",
       "std       10.913151\n",
       "min       20.000000\n",
       "25%       43.000000\n",
       "50%       48.500000\n",
       "75%       55.250000\n",
       "max       72.000000\n",
       "dtype: float64"
      ]
     },
     "execution_count": 70,
     "metadata": {},
     "output_type": "execute_result"
    }
   ],
   "source": [
    "ser_new.describe()"
   ]
  },
  {
   "cell_type": "code",
   "execution_count": null,
   "id": "865b2198",
   "metadata": {},
   "outputs": [],
   "source": []
  }
 ],
 "metadata": {
  "kernelspec": {
   "display_name": "Python 3 (ipykernel)",
   "language": "python",
   "name": "python3"
  },
  "language_info": {
   "codemirror_mode": {
    "name": "ipython",
    "version": 3
   },
   "file_extension": ".py",
   "mimetype": "text/x-python",
   "name": "python",
   "nbconvert_exporter": "python",
   "pygments_lexer": "ipython3",
   "version": "3.9.13"
  }
 },
 "nbformat": 4,
 "nbformat_minor": 5
}
