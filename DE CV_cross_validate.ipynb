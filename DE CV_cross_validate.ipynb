{
 "cells": [
  {
   "cell_type": "code",
   "execution_count": 11,
   "id": "308f0733",
   "metadata": {},
   "outputs": [],
   "source": [
    "import numpy as np\n",
    "import pandas as pd\n",
    "import matplotlib.pyplot as plt\n",
    "import seaborn as sns"
   ]
  },
  {
   "cell_type": "code",
   "execution_count": 2,
   "id": "bad8263e",
   "metadata": {},
   "outputs": [],
   "source": [
    "df = pd.read_csv(\"D://Data/Advertising.csv\")"
   ]
  },
  {
   "cell_type": "code",
   "execution_count": 3,
   "id": "71e7aa5f",
   "metadata": {},
   "outputs": [],
   "source": [
    "X = df.drop('sales', axis=1)\n",
    "y = df['sales']"
   ]
  },
  {
   "cell_type": "code",
   "execution_count": 4,
   "id": "8d47578c",
   "metadata": {},
   "outputs": [],
   "source": [
    "from sklearn.model_selection import train_test_split\n",
    "\n",
    "X_train, X_test, y_train, y_test = train_test_split(X, y, test_size=0.33, random_state=101)\n",
    "\n",
    "from sklearn.preprocessing import StandardScaler\n",
    "\n",
    "scaler = StandardScaler()\n",
    "\n",
    "scaler.fit(X_train)\n",
    "\n",
    "X_train = scaler.transform(X_train)\n",
    "X_test = scaler.transform(X_test)"
   ]
  },
  {
   "cell_type": "code",
   "execution_count": 5,
   "id": "2d331eb7",
   "metadata": {},
   "outputs": [],
   "source": [
    "from sklearn.model_selection import cross_validate"
   ]
  },
  {
   "cell_type": "code",
   "execution_count": 6,
   "id": "12efa095",
   "metadata": {},
   "outputs": [],
   "source": [
    "from sklearn.linear_model import Ridge\n",
    "model = Ridge(100)"
   ]
  },
  {
   "cell_type": "code",
   "execution_count": 8,
   "id": "c8600428",
   "metadata": {},
   "outputs": [],
   "source": [
    "scores = cross_validate(model, X_train, y_train, \n",
    "                        scoring=['neg_mean_squared_error','neg_mean_absolute_error'], cv=10)"
   ]
  },
  {
   "cell_type": "code",
   "execution_count": 14,
   "id": "55cc1510",
   "metadata": {},
   "outputs": [],
   "source": [
    "# scores\n",
    "scores = pd.DataFrame(scores)"
   ]
  },
  {
   "cell_type": "code",
   "execution_count": 15,
   "id": "4e23de63",
   "metadata": {},
   "outputs": [
    {
     "data": {
      "text/html": [
       "<div>\n",
       "<style scoped>\n",
       "    .dataframe tbody tr th:only-of-type {\n",
       "        vertical-align: middle;\n",
       "    }\n",
       "\n",
       "    .dataframe tbody tr th {\n",
       "        vertical-align: top;\n",
       "    }\n",
       "\n",
       "    .dataframe thead th {\n",
       "        text-align: right;\n",
       "    }\n",
       "</style>\n",
       "<table border=\"1\" class=\"dataframe\">\n",
       "  <thead>\n",
       "    <tr style=\"text-align: right;\">\n",
       "      <th></th>\n",
       "      <th>fit_time</th>\n",
       "      <th>score_time</th>\n",
       "      <th>test_neg_mean_squared_error</th>\n",
       "      <th>test_neg_mean_absolute_error</th>\n",
       "    </tr>\n",
       "  </thead>\n",
       "  <tbody>\n",
       "    <tr>\n",
       "      <th>0</th>\n",
       "      <td>0.020000</td>\n",
       "      <td>0.006997</td>\n",
       "      <td>-8.343329</td>\n",
       "      <td>-2.072484</td>\n",
       "    </tr>\n",
       "    <tr>\n",
       "      <th>1</th>\n",
       "      <td>0.005004</td>\n",
       "      <td>0.002999</td>\n",
       "      <td>-5.582463</td>\n",
       "      <td>-1.906832</td>\n",
       "    </tr>\n",
       "    <tr>\n",
       "      <th>2</th>\n",
       "      <td>0.006999</td>\n",
       "      <td>0.006001</td>\n",
       "      <td>-4.291879</td>\n",
       "      <td>-1.483433</td>\n",
       "    </tr>\n",
       "    <tr>\n",
       "      <th>3</th>\n",
       "      <td>0.004999</td>\n",
       "      <td>0.002998</td>\n",
       "      <td>-6.528441</td>\n",
       "      <td>-2.142031</td>\n",
       "    </tr>\n",
       "    <tr>\n",
       "      <th>4</th>\n",
       "      <td>0.009002</td>\n",
       "      <td>0.003004</td>\n",
       "      <td>-19.726677</td>\n",
       "      <td>-3.471752</td>\n",
       "    </tr>\n",
       "    <tr>\n",
       "      <th>5</th>\n",
       "      <td>0.012994</td>\n",
       "      <td>0.005009</td>\n",
       "      <td>-4.818275</td>\n",
       "      <td>-1.741032</td>\n",
       "    </tr>\n",
       "    <tr>\n",
       "      <th>6</th>\n",
       "      <td>0.013998</td>\n",
       "      <td>0.004006</td>\n",
       "      <td>-2.908209</td>\n",
       "      <td>-1.307310</td>\n",
       "    </tr>\n",
       "    <tr>\n",
       "      <th>7</th>\n",
       "      <td>0.009001</td>\n",
       "      <td>0.002004</td>\n",
       "      <td>-10.740661</td>\n",
       "      <td>-2.725304</td>\n",
       "    </tr>\n",
       "    <tr>\n",
       "      <th>8</th>\n",
       "      <td>0.007002</td>\n",
       "      <td>0.005002</td>\n",
       "      <td>-7.724996</td>\n",
       "      <td>-2.177406</td>\n",
       "    </tr>\n",
       "    <tr>\n",
       "      <th>9</th>\n",
       "      <td>0.008001</td>\n",
       "      <td>0.004001</td>\n",
       "      <td>-6.171823</td>\n",
       "      <td>-2.022786</td>\n",
       "    </tr>\n",
       "  </tbody>\n",
       "</table>\n",
       "</div>"
      ],
      "text/plain": [
       "   fit_time  score_time  test_neg_mean_squared_error  \\\n",
       "0  0.020000    0.006997                    -8.343329   \n",
       "1  0.005004    0.002999                    -5.582463   \n",
       "2  0.006999    0.006001                    -4.291879   \n",
       "3  0.004999    0.002998                    -6.528441   \n",
       "4  0.009002    0.003004                   -19.726677   \n",
       "5  0.012994    0.005009                    -4.818275   \n",
       "6  0.013998    0.004006                    -2.908209   \n",
       "7  0.009001    0.002004                   -10.740661   \n",
       "8  0.007002    0.005002                    -7.724996   \n",
       "9  0.008001    0.004001                    -6.171823   \n",
       "\n",
       "   test_neg_mean_absolute_error  \n",
       "0                     -2.072484  \n",
       "1                     -1.906832  \n",
       "2                     -1.483433  \n",
       "3                     -2.142031  \n",
       "4                     -3.471752  \n",
       "5                     -1.741032  \n",
       "6                     -1.307310  \n",
       "7                     -2.725304  \n",
       "8                     -2.177406  \n",
       "9                     -2.022786  "
      ]
     },
     "execution_count": 15,
     "metadata": {},
     "output_type": "execute_result"
    }
   ],
   "source": [
    "scores"
   ]
  },
  {
   "cell_type": "code",
   "execution_count": 16,
   "id": "7011ebb0",
   "metadata": {},
   "outputs": [
    {
     "data": {
      "text/plain": [
       "fit_time                        0.009700\n",
       "score_time                      0.004202\n",
       "test_neg_mean_squared_error    -7.683675\n",
       "test_neg_mean_absolute_error   -2.105037\n",
       "dtype: float64"
      ]
     },
     "execution_count": 16,
     "metadata": {},
     "output_type": "execute_result"
    }
   ],
   "source": [
    "scores.mean()"
   ]
  },
  {
   "cell_type": "code",
   "execution_count": 23,
   "id": "585da97a",
   "metadata": {},
   "outputs": [],
   "source": [
    "model = Ridge(1)"
   ]
  },
  {
   "cell_type": "code",
   "execution_count": 24,
   "id": "1b00e030",
   "metadata": {},
   "outputs": [],
   "source": [
    "scores = cross_validate(model, X_train, y_train, \n",
    "                        scoring=['neg_mean_squared_error','neg_mean_absolute_error'], cv=10)"
   ]
  },
  {
   "cell_type": "code",
   "execution_count": 25,
   "id": "5fc692f7",
   "metadata": {},
   "outputs": [],
   "source": [
    "scores = pd.DataFrame(scores)"
   ]
  },
  {
   "cell_type": "code",
   "execution_count": 26,
   "id": "4991a95c",
   "metadata": {},
   "outputs": [
    {
     "data": {
      "text/html": [
       "<div>\n",
       "<style scoped>\n",
       "    .dataframe tbody tr th:only-of-type {\n",
       "        vertical-align: middle;\n",
       "    }\n",
       "\n",
       "    .dataframe tbody tr th {\n",
       "        vertical-align: top;\n",
       "    }\n",
       "\n",
       "    .dataframe thead th {\n",
       "        text-align: right;\n",
       "    }\n",
       "</style>\n",
       "<table border=\"1\" class=\"dataframe\">\n",
       "  <thead>\n",
       "    <tr style=\"text-align: right;\">\n",
       "      <th></th>\n",
       "      <th>fit_time</th>\n",
       "      <th>score_time</th>\n",
       "      <th>test_neg_mean_squared_error</th>\n",
       "      <th>test_neg_mean_absolute_error</th>\n",
       "    </tr>\n",
       "  </thead>\n",
       "  <tbody>\n",
       "    <tr>\n",
       "      <th>0</th>\n",
       "      <td>0.004997</td>\n",
       "      <td>0.002006</td>\n",
       "      <td>-3.445927</td>\n",
       "      <td>-1.561576</td>\n",
       "    </tr>\n",
       "    <tr>\n",
       "      <th>1</th>\n",
       "      <td>0.004000</td>\n",
       "      <td>0.003005</td>\n",
       "      <td>-2.771931</td>\n",
       "      <td>-1.473467</td>\n",
       "    </tr>\n",
       "    <tr>\n",
       "      <th>2</th>\n",
       "      <td>0.003007</td>\n",
       "      <td>0.002995</td>\n",
       "      <td>-1.187381</td>\n",
       "      <td>-0.979992</td>\n",
       "    </tr>\n",
       "    <tr>\n",
       "      <th>3</th>\n",
       "      <td>0.004006</td>\n",
       "      <td>0.004000</td>\n",
       "      <td>-1.559656</td>\n",
       "      <td>-1.012419</td>\n",
       "    </tr>\n",
       "    <tr>\n",
       "      <th>4</th>\n",
       "      <td>0.005003</td>\n",
       "      <td>0.004998</td>\n",
       "      <td>-10.569407</td>\n",
       "      <td>-2.171315</td>\n",
       "    </tr>\n",
       "    <tr>\n",
       "      <th>5</th>\n",
       "      <td>0.005024</td>\n",
       "      <td>0.001971</td>\n",
       "      <td>-0.688597</td>\n",
       "      <td>-0.641646</td>\n",
       "    </tr>\n",
       "    <tr>\n",
       "      <th>6</th>\n",
       "      <td>0.004998</td>\n",
       "      <td>0.004000</td>\n",
       "      <td>-1.917855</td>\n",
       "      <td>-1.065413</td>\n",
       "    </tr>\n",
       "    <tr>\n",
       "      <th>7</th>\n",
       "      <td>0.004997</td>\n",
       "      <td>0.001000</td>\n",
       "      <td>-3.109495</td>\n",
       "      <td>-1.381007</td>\n",
       "    </tr>\n",
       "    <tr>\n",
       "      <th>8</th>\n",
       "      <td>0.003998</td>\n",
       "      <td>0.002996</td>\n",
       "      <td>-4.965233</td>\n",
       "      <td>-1.564080</td>\n",
       "    </tr>\n",
       "    <tr>\n",
       "      <th>9</th>\n",
       "      <td>0.003003</td>\n",
       "      <td>0.004016</td>\n",
       "      <td>-2.817300</td>\n",
       "      <td>-1.208564</td>\n",
       "    </tr>\n",
       "  </tbody>\n",
       "</table>\n",
       "</div>"
      ],
      "text/plain": [
       "   fit_time  score_time  test_neg_mean_squared_error  \\\n",
       "0  0.004997    0.002006                    -3.445927   \n",
       "1  0.004000    0.003005                    -2.771931   \n",
       "2  0.003007    0.002995                    -1.187381   \n",
       "3  0.004006    0.004000                    -1.559656   \n",
       "4  0.005003    0.004998                   -10.569407   \n",
       "5  0.005024    0.001971                    -0.688597   \n",
       "6  0.004998    0.004000                    -1.917855   \n",
       "7  0.004997    0.001000                    -3.109495   \n",
       "8  0.003998    0.002996                    -4.965233   \n",
       "9  0.003003    0.004016                    -2.817300   \n",
       "\n",
       "   test_neg_mean_absolute_error  \n",
       "0                     -1.561576  \n",
       "1                     -1.473467  \n",
       "2                     -0.979992  \n",
       "3                     -1.012419  \n",
       "4                     -2.171315  \n",
       "5                     -0.641646  \n",
       "6                     -1.065413  \n",
       "7                     -1.381007  \n",
       "8                     -1.564080  \n",
       "9                     -1.208564  "
      ]
     },
     "execution_count": 26,
     "metadata": {},
     "output_type": "execute_result"
    }
   ],
   "source": [
    "scores"
   ]
  },
  {
   "cell_type": "code",
   "execution_count": 27,
   "id": "ba2996ba",
   "metadata": {},
   "outputs": [
    {
     "data": {
      "text/plain": [
       "fit_time                        0.004303\n",
       "score_time                      0.003099\n",
       "test_neg_mean_squared_error    -3.303278\n",
       "test_neg_mean_absolute_error   -1.305948\n",
       "dtype: float64"
      ]
     },
     "execution_count": 27,
     "metadata": {},
     "output_type": "execute_result"
    }
   ],
   "source": [
    "scores.mean()"
   ]
  },
  {
   "cell_type": "code",
   "execution_count": 28,
   "id": "9bcd445c",
   "metadata": {},
   "outputs": [
    {
     "data": {
      "text/plain": [
       "Ridge(alpha=1)"
      ]
     },
     "execution_count": 28,
     "metadata": {},
     "output_type": "execute_result"
    }
   ],
   "source": [
    "model.fit(X_train, y_train)"
   ]
  },
  {
   "cell_type": "code",
   "execution_count": 29,
   "id": "dcb7ac3e",
   "metadata": {},
   "outputs": [],
   "source": [
    "y_final_pred = model.predict(X_test)"
   ]
  },
  {
   "cell_type": "code",
   "execution_count": 31,
   "id": "e4b6251f",
   "metadata": {},
   "outputs": [
    {
     "data": {
      "text/plain": [
       "2.37316582827988"
      ]
     },
     "execution_count": 31,
     "metadata": {},
     "output_type": "execute_result"
    }
   ],
   "source": [
    "from sklearn.metrics import mean_squared_error\n",
    "\n",
    "mean_squared_error(y_test, y_final_pred)"
   ]
  },
  {
   "cell_type": "code",
   "execution_count": null,
   "id": "311501b7",
   "metadata": {},
   "outputs": [],
   "source": [
    "# Grid Search\n",
    "# Used to iterate over a list of hyperparameters to get optimal values through CV\n",
    "# finds the optimal hyperparameters for a model"
   ]
  }
 ],
 "metadata": {
  "kernelspec": {
   "display_name": "Python 3 (ipykernel)",
   "language": "python",
   "name": "python3"
  },
  "language_info": {
   "codemirror_mode": {
    "name": "ipython",
    "version": 3
   },
   "file_extension": ".py",
   "mimetype": "text/x-python",
   "name": "python",
   "nbconvert_exporter": "python",
   "pygments_lexer": "ipython3",
   "version": "3.9.13"
  }
 },
 "nbformat": 4,
 "nbformat_minor": 5
}
